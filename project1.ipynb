{
 "cells": [
  {
   "cell_type": "code",
   "execution_count": null,
   "id": "b8adad22-a543-4ecc-89ec-ff516ab41cfb",
   "metadata": {},
   "outputs": [],
   "source": []
  }
 ],
 "metadata": {
  "kernelspec": {
   "display_name": "",
   "name": ""
  },
  "language_info": {
   "name": ""
  }
 },
 "nbformat": 4,
 "nbformat_minor": 5
}
